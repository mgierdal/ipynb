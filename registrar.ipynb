{
 "cells": [
  {
   "cell_type": "code",
   "execution_count": 1,
   "metadata": {
    "collapsed": false
   },
   "outputs": [],
   "source": [
    "import urllib2\n",
    "import sys\n",
    "import re\n",
    "import bs4\n",
    "import itertools\n",
    "import collections\n",
    "import mechanize"
   ]
  },
  {
   "cell_type": "code",
   "execution_count": 2,
   "metadata": {
    "collapsed": false
   },
   "outputs": [
    {
     "name": "stdout",
     "output_type": "stream",
     "text": [
      "2.7.12 |Anaconda 4.1.1 (64-bit)| (default, Jun 29 2016, 11:07:13) [MSC v.1500 64 bit (AMD64)]\n"
     ]
    }
   ],
   "source": [
    "print sys.version"
   ]
  },
  {
   "cell_type": "code",
   "execution_count": 3,
   "metadata": {
    "collapsed": true
   },
   "outputs": [],
   "source": [
    "search_url = r'https://my.gwu.edu/mod/pws/coursesearch.cfm'\n",
    "searchres_url = r'https://my.gwu.edu/mod/pws/searchresults.cfm'\n",
    "attributes_url = r'https://my.gwu.edu/mod/pws/courseAttributeList.cfm'"
   ]
  },
  {
   "cell_type": "code",
   "execution_count": 4,
   "metadata": {
    "collapsed": true
   },
   "outputs": [],
   "source": [
    "a = urllib2.urlopen(attributes_url)\n",
    "attr_page = a.readlines()\n",
    "a.close()"
   ]
  },
  {
   "cell_type": "code",
   "execution_count": 5,
   "metadata": {
    "collapsed": false
   },
   "outputs": [],
   "source": [
    "root = bs4.BeautifulSoup(reduce(lambda x,y:x+y,attr_page), 'lxml')"
   ]
  },
  {
   "cell_type": "code",
   "execution_count": 6,
   "metadata": {
    "collapsed": false
   },
   "outputs": [
    {
     "data": {
      "text/plain": [
       "{u'BCOM:': u'GWSB-Communications Elective',\n",
       " u'BCPD:': u'GWSB-Cult.&Political Diversity',\n",
       " u'BFCO:': u'GWSB-Foreign Cultures Option',\n",
       " u'BFLC:': u'GWSB-Foreign Lang. or Culture',\n",
       " u'BHUM:': u'GWSB-Humanities Elective',\n",
       " u'BINT:': u'GWSB-International Bus. Elec.',\n",
       " u'BMRE:': u'GWSB-Moral Reasoning Elective',\n",
       " u'CAA:': u'CCAS: Arts',\n",
       " u'CAF1:': u'CCAS-AMST-Cultural Politics',\n",
       " u'CAF2:': u'CCAS-AMST-Global Connections',\n",
       " u'CAF3:': u'CCAS-AMST-Space, Place,Society',\n",
       " u'CAF4:': u'CCAS-AMST-Power, Iden, Diff',\n",
       " u'CAF5:': u'CCAS-AMST-Built Environment',\n",
       " u'CAF6:': u'CCAS-AMST-Cultural Analysis',\n",
       " u'CAH:': u'GenEd:Crit Analysis Humanities',\n",
       " u'CAMS:': u'GenEd:Quantitative Reasoning',\n",
       " u'CASS:': u'GenEd:Crit Analysis Social Sci',\n",
       " u'CCCP:': u'CCAS-GCR: CPA',\n",
       " u'CCFC:': u'CCAS - GCR: Foreign Cultures',\n",
       " u'CCFL:': u'CCAS - GCR: Foreign Languages',\n",
       " u'CCH:': u'CCAS - GCR: Humanities',\n",
       " u'CCNS:': u'CCAS - GCR: Natural Sciences',\n",
       " u'CCOM:': u'CCAS: Oral Communication',\n",
       " u'CCPR:': u'CCAS - Professional',\n",
       " u'CCQL:': u'CCAS - GCR: Q & L',\n",
       " u'CCSB:': u'CCAS - GCR:Social & Behavioral',\n",
       " u'CDEL:': u'CCAS - Dance Electives',\n",
       " u'CDPP:': u'CCAS - Dramatic Lit.-Perf&Prod',\n",
       " u'CDRA:': u'CCAS - Dramatic Lit - Drama',\n",
       " u'CEDE:': u'SEAS-CE Design Elective',\n",
       " u'CETE:': u'SEAS-CE Technical Elective',\n",
       " u'CGCC:': u'CCAS:GlobalCrossCultural',\n",
       " u'CGHG:': u'CCAS-GEOG - Human Geography',\n",
       " u'CGPG:': u'CCAS-GEOG - Physical Geography',\n",
       " u'CGRG:': u'CCAS-GEOG - Regional Geography',\n",
       " u'CHIE:': u'CCAS - History European',\n",
       " u'CHIU:': u'CCAS - History US',\n",
       " u'CHIW:': u'CCAS - History World',\n",
       " u'CHPS:': u'CCAS - History Pre-1750',\n",
       " u'CLCE:': u'CCAS:Local/Civil Engage',\n",
       " u'CSCI:': u'Gen Ed: Nat or Phys Sci',\n",
       " u'CT01:': u'TSPPPA - Budget&Finance',\n",
       " u'CT02:': u'TSPPPA - Education Policy',\n",
       " u'CT03:': u'TSPPPA - Environmental Policy',\n",
       " u'CT04:': u'TSPPPA - Fed Pol, Polit & Mgmt',\n",
       " u'CT05:': u'TSPPPA - Health Policy',\n",
       " u'CT06:': u'TSPPPA - Homeland Security',\n",
       " u'CT07:': u'TSPPPA - International Dev Mgt',\n",
       " u'CT08:': u'TSPPPA - International Dev Pol',\n",
       " u'CT09:': u'TSPPPA - State&Local Govs',\n",
       " u'CT10:': u'TSPPPA - National Security Pol',\n",
       " u'CT11:': u'TSPPPA - Nonprofit Mgmt',\n",
       " u'CT12:': u'TSPPPA - Policy Analys & Eval',\n",
       " u'CT13:': u'TSPPPA - Program Eval & Analys',\n",
       " u'CT14:': u'TSPPPA - Pub-Pri Pol Mgmt',\n",
       " u'CT15:': u'TSPPPA - Regulatory Policy',\n",
       " u'CT16:': u'TSPPPA - Social Policy',\n",
       " u'CT17:': u'TSPPPA - Urban Policy',\n",
       " u'CTDP:': u'CCAS - Theatre-Dram.Lit &Play',\n",
       " u'CTDT:': u'CCAS - Theatre-Design & Tech',\n",
       " u'CTEL:': u'CCAS - Theatre Electives',\n",
       " u'CTRN:': u'CCAS-GPAC Transfer Courses',\n",
       " u'DNCE:': u'Dance',\n",
       " u'EAED:': u'ESIA-Asian Studies-Econ & Devl',\n",
       " u'EAGP:': u'ESIA-Anth/Geog/PubH (Pre2010)',\n",
       " u'EAHC:': u'ESIA-Asian Studies-Hist & Cult',\n",
       " u'EAPG:': u'ESIA-Asian Studies-Psc/Geog',\n",
       " u'EFCA:': u'ESIA-CPESS Conc (2010)',\n",
       " u'EFCB:': u'ESIA-ConflRes Conc (2010)',\n",
       " u'EFCC:': u'ESIA-ContempCS Conc (2010)',\n",
       " u'EFCD:': u'ESIA-Global PH Conc (2010)',\n",
       " u'EFCE:': u'ESIA-Intl Dev Conc (2010)',\n",
       " u'EFCF:': u'ESIA-Intl Econ Conc (2010)',\n",
       " u'EFCG:': u'ESIA-IntlEnvSt Conc (2010)',\n",
       " u'EFCH:': u'ESIA-Intl Pol Conc (2010)',\n",
       " u'EFCI:': u'ESIA-Sec Pol Conc (2010)',\n",
       " u'EFG1:': u'ESIA-CPESS Conc (Pre 2010)',\n",
       " u'EFG2:': u'ESIA-Confl/Sec Conc (Pre 2010)',\n",
       " u'EFG3:': u'ESIA-ContempCS Conc (Pre 2010)',\n",
       " u'EFG4:': u'ESIA-Global PH Conc (Pre 2010)',\n",
       " u'EFG5:': u'ESIA-Intl Dev Conc (Pre 2010)',\n",
       " u'EFG6:': u'ESIA-Intl Econ Conc (Pre 2010)',\n",
       " u'EFG7:': u'ESIA-IntEnvRes Conc (Pre 2010)',\n",
       " u'EFG8:': u'ESIA-Intl Pol Conc (Pre 2010)',\n",
       " u'EGC1:': u'ESIA-Africa GCR (Pre2010)',\n",
       " u'EGC2:': u'ESIA-Asia GCR (Pre2010)',\n",
       " u'EGC3:': u'ESIA-Europe GCR (Pre2010)',\n",
       " u'EGC4:': u'ESIA-Americas GCR (Pre2010)',\n",
       " u'EGC5:': u'ESIA-MidEast GCR (Pre2010)',\n",
       " u'EHNU:': u'ESIA-HistofIR-NonUS (Pre2010)',\n",
       " u'EHUS:': u'ESIA-Hist of IR US (Pre2010)',\n",
       " u'EMAT:': u'ESIA-Math(2010)',\n",
       " u'ERCA:': u'ESIA-Africa Conc (2010)',\n",
       " u'ERCB:': u'ESIA-Asia Conc (2010)',\n",
       " u'ERCC:': u'ESIA-Euro Conc (2010)',\n",
       " u'ERCD:': u'ESIA-LatAm Conc (2010)',\n",
       " u'ERCE:': u'ESIA-MidEast Conc (2010)',\n",
       " u'ERFA:': u'ESIA-RegFound Africa (2010)',\n",
       " u'ERFB:': u'ESIA-RegFound LatAm (2010)',\n",
       " u'ERFC:': u'ESIA-RegFound Asia (2010)',\n",
       " u'ERFD:': u'ESIA-RegFound Euro (2010)',\n",
       " u'ERFE:': u'ESIA-RegFound MdEast (2010)',\n",
       " u'ERG1:': u'ESIA-Africa Conc (Pre 2010)',\n",
       " u'ERG2:': u'ESIA-Asia Conc (Pre 2010)',\n",
       " u'ERG3:': u'ESIA-Euro Conc (Pre 2010)',\n",
       " u'ERG4:': u'ESIA-LatAm Conc (Pre 2010)',\n",
       " u'ERG5:': u'ESIA-MidEast Conc (Pre 2010)',\n",
       " u'ESAG:': u'ESIA-Anth/Geog (2010)',\n",
       " u'ESCA:': u'ESIA-Creative Arts Courses',\n",
       " u'ESCI:': u'ESIA-Science(2010)',\n",
       " u'ESHA:': u'ESIA-Historical Analysis',\n",
       " u'ESHC:': u'ESIA-Humanities Courses',\n",
       " u'ESIP:': u'ESIA-International Politics',\n",
       " u'ESMS:': u'ESIA-Math / Science(Pre-2010)',\n",
       " u'ESRM:': u'ESIA-Research Methods',\n",
       " u'HAAH:': u'HONR - Arts & Hum. HONR 2053',\n",
       " u'HAH2:': u'HONR - Arts & Hum. HONR 2054',\n",
       " u'HSAS:': u'HONR-Self & Society HONR 2047',\n",
       " u'HSRD:': u'HONR-Sci Reasoning & Discovery',\n",
       " u'HSS2:': u'HONR-Self & Society HONR 2048',\n",
       " u'JDSR:': u'JD-LAW Skills Requirement',\n",
       " u'JDWR:': u'JD-LAW Writing Requirement',\n",
       " u'MPGC:': u'MBA Professional - Global',\n",
       " u'MPSC:': u'MBA Prof - Sustainability',\n",
       " u'NCAP:': u'Not Counted',\n",
       " u'PCPA:': u'SPHHS-Creative/Performing Arts',\n",
       " u'PHHC:': u'SPHHS-Humanities Courses',\n",
       " u'SHUM:': u'Inactive Attribute Code',\n",
       " u'SMTA:': u'Sust Minor: Green Leaf Track A',\n",
       " u'SMTB:': u'Sust Minor: Green Leaf Track B',\n",
       " u'SMTC:': u'Sust Minor: Green Leaf Track C',\n",
       " u'SSSE:': u'Inactive Attribute Code',\n",
       " u'SUST:': u'Sustainability Courses',\n",
       " u'SVCL:': u'Service Learning Course',\n",
       " u'XDOC:': u'Not Counted Doctoral Program'}"
      ]
     },
     "execution_count": 6,
     "metadata": {},
     "output_type": "execute_result"
    }
   ],
   "source": [
    "table_content = dict([tuple([x.text for x in row('td')]) \n",
    "                      for row in root.findAll('table')[0].findAll('tr')])\n",
    "table_content"
   ]
  },
  {
   "cell_type": "code",
   "execution_count": 7,
   "metadata": {
    "collapsed": false
   },
   "outputs": [],
   "source": [
    "#unique selction\n",
    "#table.bodyFont:nth-child(2) > tbody:nth-child(1) > tr:nth-child(2) > td:nth-child(1) > form:nth-child(1) > table:nth-child(1) > tbody:nth-child(1) > tr:nth-child(1) > td:nth-child(1) > table:nth-child(1) > tbody:nth-child(1) > tr:nth-child(14) > td:nth-child(1) > input:nth-child(1)\n",
    "# inner html\n",
    "#<input name=\"Submit\" class=\"bodyFont\" value=\"Search\" onclick=\"document.form1.action='searchresults.cfm'\" type=\"submit\">"
   ]
  },
  {
   "cell_type": "code",
   "execution_count": 8,
   "metadata": {
    "collapsed": true
   },
   "outputs": [],
   "source": [
    "a = urllib2.urlopen(search_url)\n",
    "srch_page = a.readlines()\n",
    "a.close()"
   ]
  },
  {
   "cell_type": "code",
   "execution_count": 9,
   "metadata": {
    "collapsed": true
   },
   "outputs": [],
   "source": [
    "root = bs4.BeautifulSoup(reduce(lambda x,y:x+y,srch_page), 'lxml')"
   ]
  },
  {
   "cell_type": "code",
   "execution_count": 10,
   "metadata": {
    "collapsed": false
   },
   "outputs": [
    {
     "data": {
      "text/plain": [
       "[<input checked=\"true\" name=\"srchType\" type=\"radio\" value=\"All\"/>,\n",
       " <input name=\"srchType\" type=\"radio\" value=\"Active\"/>,\n",
       " <input name=\"srchType\" type=\"radio\" value=\"Closed\"/>,\n",
       " <input name=\"srchType\" type=\"radio\" value=\"Cancelled\"/>,\n",
       " <input class=\"bodyFont\" name=\"courseNumSt\" size=\"20\" type=\"text\"/>,\n",
       " <input class=\"bodyFont\" name=\"courseNumEn\" type=\"text\"/>,\n",
       " <input class=\"bodyFont\" id=\"courseAttrSt\" name=\"courseAttrSt\" type=\"text\"/>,\n",
       " <input class=\"bodyFont\" name=\"crn\" type=\"text\"/>,\n",
       " <input class=\"bodyFont\" name=\"courseTitle\" type=\"text\"/>,\n",
       " <input class=\"bodyFont\" name=\"courseInst\" type=\"text\"/>,\n",
       " <input checked=\"true\" name=\"courseDays\" type=\"checkbox\" value=\"M\"/>,\n",
       " <input checked=\"true\" name=\"courseDays\" type=\"checkbox\" value=\"T\"/>,\n",
       " <input checked=\"true\" name=\"courseDays\" type=\"checkbox\" value=\"W\"/>,\n",
       " <input checked=\"true\" name=\"courseDays\" type=\"checkbox\" value=\"R\"/>,\n",
       " <input checked=\"true\" name=\"courseDays\" type=\"checkbox\" value=\"F\"/>,\n",
       " <input checked=\"true\" name=\"courseDays\" type=\"checkbox\" value=\"S\"/>,\n",
       " <input checked=\"true\" name=\"courseDays\" type=\"checkbox\" value=\"U\"/>,\n",
       " <input name=\"addReq\" type=\"checkbox\" value=\"wic\"/>,\n",
       " <input name=\"addReq\" type=\"checkbox\" value=\"700\"/>,\n",
       " <input name=\"addReq\" type=\"checkbox\" value=\"summer\"/>,\n",
       " <input name=\"addReq\" type=\"checkbox\" value=\"ccas\"/>,\n",
       " <input class=\"bodyFont\" name=\"Submit\" onclick=\"document.form1.action='searchresults.cfm'\" type=\"submit\" value=\"Search\"/>,\n",
       " <input class=\"bodyFont\" name=\"Reset\" type=\"reset\" value=\"Reset\"/>]"
      ]
     },
     "execution_count": 10,
     "metadata": {},
     "output_type": "execute_result"
    }
   ],
   "source": [
    "root.findAll('input')"
   ]
  },
  {
   "cell_type": "code",
   "execution_count": 11,
   "metadata": {
    "collapsed": false
   },
   "outputs": [
    {
     "name": "stdout",
     "output_type": "stream",
     "text": [
      "['8:00 AM', '8:30 AM', '9:00 AM', '9:30 AM', '10:00 AM', '10:30 AM', '11:00 AM', '11:30 AM', '1:00 PM', '1:30 PM', '2:00 PM', '2:30 PM', '3:00 PM', '3:30 PM', '4:00 PM', '4:30 PM', '5:00 PM', '5:30 PM', '6:00 PM', '6:30 PM', '7:00 PM', '7:30 PM', '8:00 PM', '8:30 PM', '9:00 PM', '9:30 PM', '10:00 PM', '10:30 PM', '11:00 PM', '11:30 PM', '12:00 PM', '12:30 PM']\n"
     ]
    }
   ],
   "source": [
    "courseDays_options = ('M','T', 'W','R','F','S','U')\n",
    "courseInst = None\n",
    "courseTitle = None\n",
    "crm = None\n",
    "courseAttrSt = None\n",
    "\n",
    "srchType_options = (\"All\",\"Active\",\"Closed\",\"Cancelled\")\n",
    "courseNumSt = None\n",
    "courseNumEn = None\n",
    "\n",
    "beginTime_options = [':'.join(x) + ' AM' for x in itertools.product(['8','9','10','11'], ['00', '30'])] \\\n",
    "                    + [':'.join(x) + ' PM' for x in itertools.product([str(x) for x in range(1,13)], \n",
    "                                                ['00', '30'])]\n",
    "endTime_options = beginTime_options\n",
    "\n",
    "print endTime_options"
   ]
  },
  {
   "cell_type": "code",
   "execution_count": 12,
   "metadata": {
    "collapsed": true
   },
   "outputs": [],
   "source": [
    "import urllib\n",
    "params = urllib.urlencode({'crn': '12802'})\n",
    "f = urllib.urlopen(searchres_url, params)\n",
    "#print f.read()\n",
    "\n",
    "f.close()"
   ]
  },
  {
   "cell_type": "code",
   "execution_count": null,
   "metadata": {
    "collapsed": true
   },
   "outputs": [],
   "source": []
  },
  {
   "cell_type": "code",
   "execution_count": 13,
   "metadata": {
    "collapsed": false
   },
   "outputs": [
    {
     "name": "stdout",
     "output_type": "stream",
     "text": [
      "https://my.gwu.edu/mod/pws/coursesearch.cfm\n"
     ]
    }
   ],
   "source": [
    "br = mechanize.Browser()\n",
    "br.open(search_url)\n",
    "print br.geturl()\n",
    "br.select_form(nr=0)\n",
    "#br.select_form(name=\"form1\")\n",
    "\n",
    "br.form['crn'] = '12802'\n",
    "br['crn'] = '12802'\n",
    "# fill out other fields\n",
    "\n",
    "req = br.submit()"
   ]
  },
  {
   "cell_type": "code",
   "execution_count": 14,
   "metadata": {
    "collapsed": false
   },
   "outputs": [
    {
     "ename": "NameError",
     "evalue": "name 'top_url' is not defined",
     "output_type": "error",
     "traceback": [
      "\u001b[1;31m---------------------------------------------------------------------------\u001b[0m",
      "\u001b[1;31mNameError\u001b[0m                                 Traceback (most recent call last)",
      "\u001b[1;32m<ipython-input-14-a816aa6a07ac>\u001b[0m in \u001b[0;36m<module>\u001b[1;34m()\u001b[0m\n\u001b[0;32m      2\u001b[0m \u001b[1;33m\u001b[0m\u001b[0m\n\u001b[0;32m      3\u001b[0m \u001b[0mbr\u001b[0m \u001b[1;33m=\u001b[0m \u001b[0mmechanize\u001b[0m\u001b[1;33m.\u001b[0m\u001b[0mBrowser\u001b[0m\u001b[1;33m(\u001b[0m\u001b[1;33m)\u001b[0m\u001b[1;33m\u001b[0m\u001b[0m\n\u001b[1;32m----> 4\u001b[1;33m \u001b[0mbr\u001b[0m\u001b[1;33m.\u001b[0m\u001b[0mopen\u001b[0m\u001b[1;33m(\u001b[0m\u001b[0mtop_url\u001b[0m\u001b[1;33m)\u001b[0m\u001b[1;33m\u001b[0m\u001b[0m\n\u001b[0m\u001b[0;32m      5\u001b[0m \u001b[0mbr\u001b[0m\u001b[1;33m.\u001b[0m\u001b[0mselect_form\u001b[0m\u001b[1;33m(\u001b[0m\u001b[0mnr\u001b[0m\u001b[1;33m=\u001b[0m\u001b[1;36m0\u001b[0m\u001b[1;33m)\u001b[0m\u001b[1;33m\u001b[0m\u001b[0m\n\u001b[0;32m      6\u001b[0m \u001b[0mbr\u001b[0m\u001b[1;33m[\u001b[0m\u001b[1;34m\"login\"\u001b[0m\u001b[1;33m]\u001b[0m \u001b[1;33m=\u001b[0m \u001b[0musername\u001b[0m\u001b[1;33m\u001b[0m\u001b[0m\n",
      "\u001b[1;31mNameError\u001b[0m: name 'top_url' is not defined"
     ]
    }
   ],
   "source": [
    "# LOGIN\n",
    "\n",
    "br = mechanize.Browser()\n",
    "br.open(top_url)\n",
    "br.select_form(nr=0)\n",
    "br[\"login\"] = username\n",
    "br[\"password\"] = password\n",
    "br.submit()"
   ]
  },
  {
   "cell_type": "code",
   "execution_count": null,
   "metadata": {
    "collapsed": false
   },
   "outputs": [],
   "source": [
    "bool(re.search('zanov',req.read()))\n"
   ]
  },
  {
   "cell_type": "code",
   "execution_count": null,
   "metadata": {
    "collapsed": false
   },
   "outputs": [],
   "source": [
    "br.close()"
   ]
  },
  {
   "cell_type": "code",
   "execution_count": null,
   "metadata": {
    "collapsed": false
   },
   "outputs": [],
   "source": [
    "req.read()"
   ]
  },
  {
   "cell_type": "code",
   "execution_count": null,
   "metadata": {
    "collapsed": false
   },
   "outputs": [],
   "source": []
  },
  {
   "cell_type": "code",
   "execution_count": null,
   "metadata": {
    "collapsed": true
   },
   "outputs": [],
   "source": []
  },
  {
   "cell_type": "code",
   "execution_count": null,
   "metadata": {
    "collapsed": true
   },
   "outputs": [],
   "source": []
  }
 ],
 "metadata": {
  "anaconda-cloud": {},
  "kernelspec": {
   "display_name": "Python [Root]",
   "language": "python",
   "name": "Python [Root]"
  },
  "language_info": {
   "codemirror_mode": {
    "name": "ipython",
    "version": 2
   },
   "file_extension": ".py",
   "mimetype": "text/x-python",
   "name": "python",
   "nbconvert_exporter": "python",
   "pygments_lexer": "ipython2",
   "version": "2.7.12"
  }
 },
 "nbformat": 4,
 "nbformat_minor": 0
}
